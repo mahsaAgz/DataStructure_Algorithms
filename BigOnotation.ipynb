{
  "nbformat": 4,
  "nbformat_minor": 0,
  "metadata": {
    "colab": {
      "provenance": [],
      "toc_visible": true
    },
    "kernelspec": {
      "name": "python3",
      "display_name": "Python 3"
    },
    "language_info": {
      "name": "python"
    }
  },
  "cells": [
    {
      "cell_type": "markdown",
      "source": [
        "# **Big O notation**  \n",
        "* is a mathematical concept used in computer science to describe the efficiency and performance of algorithms.\n",
        "* how the runtime and memory usage of an algorithm scales with the size of the input\n",
        "\n",
        " یک مفهوم ریاضی است در علوم کامپیوتر که:\n",
        " * برای توصیف کارایی و عملکرد الگوریتم‌ها استفاده می‌شود.\n",
        " * این مفهوم به ما کمک می‌کند که بفهمیم الگوریتم‌ها با افزایش اندازه ورودی چگونه رفتار می‌کنند و چقدر زمان و حافظه نیاز دارند.\n",
        "\n",
        "\n",
        " When we talk about runtime in Big O notation, we do not mean the actual time (like seconds or milliseconds). Instead, we refer to how the runtime changes as the input size increases. This change is described using a mathematical formula that shows how the runtime grows with the increase in the number of inputs.\n",
        "\n",
        "وقتی درباره زمان اجرا در یادداشت O بزرگ صحبت می‌کنیم، منظورمان زمان واقعی (مانند ثانیه یا میلی‌ثانیه) نیست، بلکه منظورمان نحوه تغییر زمان اجرا با توجه به افزایش اندازه ورودی است. این تغییر را با استفاده از یک فرمول ریاضی توصیف می‌کنیم که نشان می‌دهد چگونه زمان اجرا با افزایش تعداد ورودی‌ها رشد می‌کند."
      ],
      "metadata": {
        "id": "F6qG7XyesG8U"
      }
    },
    {
      "cell_type": "markdown",
      "source": [
        " ## **Big O Notations for runtime complexity**:"
      ],
      "metadata": {
        "id": "Rofm_JdrsSsj"
      }
    },
    {
      "cell_type": "markdown",
      "source": [
        "When analyzing the time or space complexity of an algorithm, we focus on the term that grows the fastest as the input size increases. This is because the dominant term will have the most significant impact on the performance for large inputs."
      ],
      "metadata": {
        "id": "5GdEhshG64Gb"
      }
    },
    {
      "cell_type": "markdown",
      "source": [
        " ### **Common Big O Notations for runtime complexity**:"
      ],
      "metadata": {
        "id": "Dq4Psu-i6kse"
      }
    },
    {
      "cell_type": "markdown",
      "source": [
        "**$O(1)$**: Constant time complexity. The runtime is constant and does not change with the input size.\n",
        "-   Example: Accessing an element in an array."
      ],
      "metadata": {
        "id": "9u3xVW9-sUCb"
      }
    },
    {
      "cell_type": "code",
      "source": [
        "arr = [1, 2, 3, 4, 5]\n",
        "print(arr[0]) # O(1)"
      ],
      "metadata": {
        "colab": {
          "base_uri": "https://localhost:8080/"
        },
        "id": "VXTV5-9psJwU",
        "outputId": "11a8acb4-aae6-4e46-9307-f648545adb2e"
      },
      "execution_count": 4,
      "outputs": [
        {
          "output_type": "stream",
          "name": "stdout",
          "text": [
            "1\n"
          ]
        }
      ]
    },
    {
      "cell_type": "markdown",
      "source": [
        "----------------------\n",
        "**$O(n)$**: Linear time complexity. The runtime grows linearly with the input size.\n",
        "-   Example: Iterating through an array."
      ],
      "metadata": {
        "id": "7Kzark-vs9k4"
      }
    },
    {
      "cell_type": "code",
      "source": [
        "arr = [1, 2, 3, 4, 5]\n",
        "for item in arr: # O(n)\n",
        "  print(item)"
      ],
      "metadata": {
        "colab": {
          "base_uri": "https://localhost:8080/"
        },
        "id": "lX_58cGPtDkz",
        "outputId": "282049ec-f8ea-4e9b-cc69-747887f77c8b"
      },
      "execution_count": 3,
      "outputs": [
        {
          "output_type": "stream",
          "name": "stdout",
          "text": [
            "1\n",
            "2\n",
            "3\n",
            "4\n",
            "5\n"
          ]
        }
      ]
    },
    {
      "cell_type": "code",
      "source": [
        "arr = [1, 2, 3, 4, 5]\n",
        "print(arr[2]) # O(1)\n",
        "for item in arr: # O(n)\n",
        "  print(item)\n",
        "print(arr[2]) # O(1)"
      ],
      "metadata": {
        "id": "-AWVTzDRtn7L"
      },
      "execution_count": null,
      "outputs": []
    },
    {
      "cell_type": "code",
      "source": [
        "arr = [1, 2, 3, 4, 5]\n",
        "for item in arr: # O(n)\n",
        "  print(item)\n",
        "for item in arr: # O(n)\n",
        "  print(item)"
      ],
      "metadata": {
        "id": "15xf-qHXuikr"
      },
      "execution_count": null,
      "outputs": []
    },
    {
      "cell_type": "markdown",
      "source": [
        "The O notation $O(1 + n + 1)$ and $O(2n)$ is considered $O(n)$, because anyway the number of operations increases linearly with the input size."
      ],
      "metadata": {
        "id": "saeXbEXkuupT"
      }
    },
    {
      "cell_type": "code",
      "source": [
        "arr = [1, 2, 3, 4, 5]\n",
        "names=[\"a\",\"b\",\"c\"]\n",
        "for item in arr: # O(n)\n",
        "  print(item)\n",
        "for name in names: # O(m)\n",
        "  print(name)"
      ],
      "metadata": {
        "colab": {
          "base_uri": "https://localhost:8080/"
        },
        "id": "hQwXy7kPutzD",
        "outputId": "3b983a1d-d0e0-43df-ca26-319ef05e4bba"
      },
      "execution_count": 8,
      "outputs": [
        {
          "output_type": "stream",
          "name": "stdout",
          "text": [
            "1\n",
            "2\n",
            "3\n",
            "4\n",
            "5\n",
            "a\n",
            "b\n",
            "c\n"
          ]
        }
      ]
    },
    {
      "cell_type": "markdown",
      "source": [
        "The overall complexity is $O(n + m)$.\n",
        "\n",
        "But, under the assumption that $m$ is significantly  than $n$ ($m \\ll n$):\n",
        "\n",
        "We can simplify as follows:\n",
        "\n",
        "$O(n + m) \\approx O(n)$."
      ],
      "metadata": {
        "id": "4q6LXVRYxOmD"
      }
    },
    {
      "cell_type": "markdown",
      "source": [
        "----------------------\n",
        "**$O(n^2)$**: Quadratic time complexity. The runtime grows quadratically with the input size.\n",
        "-   Example: Bubble sort, insertion sort.\n",
        "    "
      ],
      "metadata": {
        "id": "PueAhp8Myfxc"
      }
    },
    {
      "cell_type": "code",
      "source": [
        "arr = [1, 2, 3, 4, 5]\n",
        "for item1 in arr: # O(n)\n",
        "  for item2 in arr: # O(n)\n",
        "    print(item1,\",\", item2)"
      ],
      "metadata": {
        "colab": {
          "base_uri": "https://localhost:8080/"
        },
        "id": "K7aK-3oayaxE",
        "outputId": "be4995df-8676-406f-a629-b27b535e81ce"
      },
      "execution_count": 6,
      "outputs": [
        {
          "output_type": "stream",
          "name": "stdout",
          "text": [
            "1 , 1\n",
            "1 , 2\n",
            "1 , 3\n",
            "1 , 4\n",
            "1 , 5\n",
            "2 , 1\n",
            "2 , 2\n",
            "2 , 3\n",
            "2 , 4\n",
            "2 , 5\n",
            "3 , 1\n",
            "3 , 2\n",
            "3 , 3\n",
            "3 , 4\n",
            "3 , 5\n",
            "4 , 1\n",
            "4 , 2\n",
            "4 , 3\n",
            "4 , 4\n",
            "4 , 5\n",
            "5 , 1\n",
            "5 , 2\n",
            "5 , 3\n",
            "5 , 4\n",
            "5 , 5\n"
          ]
        }
      ]
    },
    {
      "cell_type": "markdown",
      "source": [
        "if $O(n + n^2) \\approx O(n^2)$.\n",
        "we always choose the biggest one\n"
      ],
      "metadata": {
        "id": "8DjCSl3nyLzk"
      }
    },
    {
      "cell_type": "markdown",
      "source": [
        "---------------\n",
        "**Other common big o notations**\n",
        "\n",
        "-   **$O(log n)$**: Logarithmic time complexity. The runtime grows logarithmically with the input size.\n",
        "    \n",
        "    -   Example: Binary search.\n",
        "\n",
        "-   **$O(n log n)$**: Linearithmic time complexity. The runtime grows linearly with an added logarithmic factor.\n",
        "    \n",
        "    -   Example: Efficient sorting algorithms like mergesort and heapsort.\n",
        "\n",
        "-   **$O(2^n)$**: Exponential time complexity. The runtime grows exponentially with the input size.\n",
        "    \n",
        "    -   Example: Recursive algorithms solving the Fibonacci sequence without memoization.\n",
        "-   **$O(n!)$**: Factorial time complexity. The runtime grows factorially with the input size.\n",
        "    \n",
        "    -   Example: Solving the traveling salesman problem with a brute-force approach."
      ],
      "metadata": {
        "id": "E5e7uUiLsQGr"
      }
    },
    {
      "cell_type": "markdown",
      "source": [
        "## **Trade off space and time**\n",
        "\n",
        "It's rare to save both space and time simultaneously. We need to consider the application. If we have a lot of space, we can use it to decrease the time.\n",
        "\n",
        "هم خر و هم خرما نمیشه. نمی‌شود هم فضای کمی اختصاص داد و هم الگوریتم را در زمان کم اجرا کرد. پس باید با توجه به کاربرد و نیاز تصمیم گرفت."
      ],
      "metadata": {
        "id": "umOs287B0dDD"
      }
    },
    {
      "cell_type": "markdown",
      "source": [
        " ## **Big O Notations for Space**:"
      ],
      "metadata": {
        "id": "2H1jkYoT11Dl"
      }
    },
    {
      "cell_type": "markdown",
      "source": [
        "Big O notation for space complexity, we typically consider the extra memory allocation that the algorithm or function requires beyond the input data. We focus on the additional space used, such as variables, data structures, or any other storage required by the algorithm. The input size itself is not considered \"extra\" because it is given as part of the problem.\n",
        "\n",
        "در نشانه‌گذاری O بزرگ برای پیچیدگی فضایی، معمولاً تخصیص حافظه اضافی که الگوریتم یا تابع نیاز دارد را در نظر می‌گیریم. ما بر فضای اضافی استفاده شده تمرکز می‌کنیم، مانند متغیرها، ساختارهای داده یا هر ذخیره‌سازی دیگری که الگوریتم نیاز دارد. اندازه ورودی خود به عنوان \"اضافی\" محسوب نمی‌شود زیرا بخشی از مسئله داده شده است.\n",
        "\n",
        "\n",
        "\n",
        "\n",
        "\n",
        "\n"
      ],
      "metadata": {
        "id": "tdV4Eygs2y0a"
      }
    },
    {
      "cell_type": "code",
      "source": [
        "def greet(names):\n",
        "  names_tmp= names.copy() #O(n) space\n",
        "  for item in names_tmp:\n",
        "    print(\"Hello \",item)\n",
        "\n",
        "names=[\"a\",\"b\",\"c\"]\n",
        "greet(names)\n"
      ],
      "metadata": {
        "colab": {
          "base_uri": "https://localhost:8080/"
        },
        "id": "PsfnaDH60Tim",
        "outputId": "0e75df2e-ca8d-404a-fd27-8f729990afd5"
      },
      "execution_count": 10,
      "outputs": [
        {
          "output_type": "stream",
          "name": "stdout",
          "text": [
            "Hello  a\n",
            "Hello  b\n",
            "Hello  c\n"
          ]
        }
      ]
    },
    {
      "cell_type": "code",
      "source": [],
      "metadata": {
        "id": "_EgaDUPM2pp8"
      },
      "execution_count": null,
      "outputs": []
    }
  ]
}