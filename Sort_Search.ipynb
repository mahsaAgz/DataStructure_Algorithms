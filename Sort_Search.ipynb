{
  "nbformat": 4,
  "nbformat_minor": 0,
  "metadata": {
    "colab": {
      "provenance": []
    },
    "kernelspec": {
      "name": "python3",
      "display_name": "Python 3"
    },
    "language_info": {
      "name": "python"
    }
  },
  "cells": [
    {
      "cell_type": "markdown",
      "source": [
        "# Searching"
      ],
      "metadata": {
        "id": "2QHgeD-F84r9"
      }
    },
    {
      "cell_type": "markdown",
      "source": [
        "we are looking for element k\n",
        "\n",
        "### Linear Search\n",
        "\n",
        "Linear search is a straightforward method that involves checking each element in the list one by one until the desired element is found or the end of the list is reached.\n",
        "\n",
        "**Time Complexity:** O(n)\n",
        "\n",
        "**Python Implementation:**"
      ],
      "metadata": {
        "id": "e3K0x8Tz9TcM"
      }
    },
    {
      "cell_type": "code",
      "source": [
        "def linear_search(arr, k):\n",
        "    for index, element in enumerate(arr):\n",
        "        if element == k:\n",
        "            return index\n",
        "    return -1\n",
        "\n",
        "# Example usage\n",
        "arr = [3, 5, 2, 9, 1]\n",
        "k = 9\n",
        "result = linear_search(arr, k)\n",
        "print(f\"Element {k} found at index {result}\" if result != -1 else \"Element not found\")\n"
      ],
      "metadata": {
        "colab": {
          "base_uri": "https://localhost:8080/"
        },
        "id": "8X242y6v9Cwz",
        "outputId": "3f0fb369-af2e-42ac-adbb-3476293ccb04"
      },
      "execution_count": 1,
      "outputs": [
        {
          "output_type": "stream",
          "name": "stdout",
          "text": [
            "Element 9 found at index 3\n"
          ]
        }
      ]
    },
    {
      "cell_type": "markdown",
      "source": [
        "### Binary Search\n",
        "\n",
        "Binary search is a more efficient method but it requires the list to be sorted. It repeatedly divides the search interval in half. If the value of the search key is less than the item in the middle of the interval, narrow the interval to the lower half. Otherwise, narrow it to the upper half. Repeatedly check until the value is found or the interval is empty.\n",
        "\n",
        "**Algorithm:**\n",
        "\n",
        "1. Initialize two pointers, `low` and `high`, to the beginning and end of the list.\n",
        "2. Find the middle element of the list.\n",
        "3. If the middle element is equal to k, return the index.\n",
        "4. If k is less than the middle element, search the left half.\n",
        "5. If k  is greater than the middle element, search the right half.\n",
        "6. Repeat steps 2-5 until k is found or the subarray has no elements (i.e., `low` exceeds `high`).\n",
        "\n",
        "**Time Complexity:** O(log n)\n",
        "\n",
        "**Python Implementation:**"
      ],
      "metadata": {
        "id": "mV5OVlZ59Zj_"
      }
    },
    {
      "cell_type": "code",
      "source": [
        "def binary_search(arr, k):\n",
        "    low, high = 0, len(arr) - 1\n",
        "\n",
        "    while low <= high:\n",
        "        mid = (low + high) // 2\n",
        "        if arr[mid] == k:\n",
        "            return mid\n",
        "        elif arr[mid] < k:\n",
        "            low = mid + 1\n",
        "        else:\n",
        "            high = mid - 1\n",
        "\n",
        "    return -1\n",
        "\n",
        "# Example usage\n",
        "arr = [1, 2, 3, 5, 9]\n",
        "k = 5\n",
        "result = binary_search(arr, k)\n",
        "print(f\"Element {k} found at index {result}\" if result != -1 else \"Element not found\")\n"
      ],
      "metadata": {
        "colab": {
          "base_uri": "https://localhost:8080/"
        },
        "id": "X9xrizkC9VOt",
        "outputId": "a204f943-394f-4b11-c033-25afd438e7d5"
      },
      "execution_count": 2,
      "outputs": [
        {
          "output_type": "stream",
          "name": "stdout",
          "text": [
            "Element 5 found at index 3\n"
          ]
        }
      ]
    },
    {
      "cell_type": "markdown",
      "source": [
        "# Why O(log n)\n",
        "\n",
        "- After the first step, the size of the array is n/2.\n",
        "- After the second step, the size of the array is n/4.\n",
        "- After the third step, the size of the array is n/8.,\n",
        "\n",
        "So maximum number of steps :\n",
        "\n",
        "$$\\frac{n}{2^i} = 1 → n = 2^i → i = \\log_2(n)$$\n",
        "\n",
        "$$O(log n)$$"
      ],
      "metadata": {
        "id": "HzelnvJ_9dvZ"
      }
    },
    {
      "cell_type": "code",
      "source": [],
      "metadata": {
        "id": "7YYh9dUi9cCr"
      },
      "execution_count": null,
      "outputs": []
    }
  ]
}