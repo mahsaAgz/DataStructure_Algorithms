{
  "nbformat": 4,
  "nbformat_minor": 0,
  "metadata": {
    "colab": {
      "provenance": []
    },
    "kernelspec": {
      "name": "python3",
      "display_name": "Python 3"
    },
    "language_info": {
      "name": "python"
    }
  },
  "cells": [
    {
      "cell_type": "markdown",
      "source": [
        "# List & Array & Stack & queue"
      ],
      "metadata": {
        "id": "vyAGNs2O5Rpl"
      }
    },
    {
      "cell_type": "markdown",
      "source": [
        "\n",
        "| Data Structure | Implementation | Enqueue/Push | Dequeue/Pop | Peek/Top | Access |\n",
        "| --- | --- | --- | --- | --- | --- |\n",
        "| Stack | List | O(1) | O(1) | O(1) | O(1) |\n",
        "| Queue | List | O(1) | O(n) ** | O(1) | O(1) |\n",
        "| Queue | collections.deque | O(1) | O(1) | O(1) | O(1) |\n",
        "| Array | array/numpy | O(n) | O(n) | O(1) | O(1) |\n",
        "\n",
        "** O(n) because of the need to shift elements.\n",
        "\n",
        "### Arrays\n",
        "\n",
        "- **Data Types:** Arrays are generally used to store elements of the same data type, making them more efficient, especially for large volumes of data.\n",
        "- **Less Flexibility:** Arrays are not as flexible as lists. The data type is determined at the time of array creation and usually cannot be changed.\n",
        "- **Functions and Methods:** To work with arrays, you need to use additional modules like `array` or `numpy`, which provide their own set of functions and methods.\n",
        "- **Speed:** Arrays can be faster than lists due to the uniform data type and internal optimizations.\n",
        "- **Creation:** Arrays are created using specific modules like `array` or `numpy`.\n",
        "- **Use Cases:** Useful for numerical computations, matrix operations, and scenarios where fixed-size, homogeneous data is processed."
      ],
      "metadata": {
        "id": "LFWrlm6C5WAP"
      }
    },
    {
      "cell_type": "code",
      "execution_count": 1,
      "metadata": {
        "colab": {
          "base_uri": "https://localhost:8080/"
        },
        "id": "Itpa-mfB5RIp",
        "outputId": "eaff934b-5eed-4a5b-b4b6-69ec30c9e515"
      },
      "outputs": [
        {
          "output_type": "execute_result",
          "data": {
            "text/plain": [
              "array('i', [1, 2, 3, 4])"
            ]
          },
          "metadata": {},
          "execution_count": 1
        }
      ],
      "source": [
        "import array as arr\n",
        "my_array = arr.array('i', [1, 2, 3, 4])\n",
        "my_array"
      ]
    },
    {
      "cell_type": "markdown",
      "source": [
        "### Lists\n",
        "\n",
        "- **Data Types:** Lists can store elements of different data types (integers, floats, strings, etc.).\n",
        "- **Flexibility:** Lists are very flexible and can be easily modified. You can add or remove elements from a list.\n",
        "- **Functions and Methods:** Python provides many built-in functions and methods to work with lists, including adding, removing, sorting, and searching for elements.\n",
        "- **Speed:** Lists can be slower than arrays because of their flexibility and the variety of data types they can store.\n",
        "- **Creation:** Lists are created using square brackets `[]`.\n",
        "\n",
        "\n",
        "- **Use Cases:** General-purpose storage of elements where order, access, and mutation are important.\n"
      ],
      "metadata": {
        "id": "gujM2QM45l_w"
      }
    },
    {
      "cell_type": "code",
      "source": [
        "my_list = [1, 2, 3, \"Hello\", 4.5]\n",
        "my_list"
      ],
      "metadata": {
        "colab": {
          "base_uri": "https://localhost:8080/"
        },
        "id": "XuSHqmJt5lxL",
        "outputId": "969db19a-2e47-4ad3-c906-737b0b827487"
      },
      "execution_count": 3,
      "outputs": [
        {
          "output_type": "execute_result",
          "data": {
            "text/plain": [
              "[1, 2, 3, 'Hello', 4.5]"
            ]
          },
          "metadata": {},
          "execution_count": 3
        }
      ]
    },
    {
      "cell_type": "markdown",
      "source": [
        "### Stack (LIFO - Last In, First Out)\n",
        "\n",
        "- **Implementation:** Efficiently implemented using Python's list.\n",
        "- **Use Cases:** Scenarios where the most recently added element needs to be accessed first, like function call stacks, undo mechanisms in editors, etc."
      ],
      "metadata": {
        "id": "yjjA92pH51c0"
      }
    },
    {
      "cell_type": "code",
      "source": [
        "stack = []\n",
        "print(stack)\n",
        "stack.append(1)  # Push\n",
        "stack.append(2)\n",
        "print(stack)\n",
        "top_element = stack.pop()  # Pop\n",
        "print(stack)"
      ],
      "metadata": {
        "colab": {
          "base_uri": "https://localhost:8080/"
        },
        "id": "Ef0z5QUx5UCj",
        "outputId": "adabff89-2cf5-49a6-aa9e-74e186f44568"
      },
      "execution_count": 5,
      "outputs": [
        {
          "output_type": "stream",
          "name": "stdout",
          "text": [
            "[]\n",
            "[1, 2]\n",
            "[1]\n"
          ]
        }
      ]
    },
    {
      "cell_type": "markdown",
      "source": [
        "### Queue (FIFO - First In, First Out)\n",
        "\n",
        "- **Use Cases:** Scenarios where the first added element needs to be accessed first, like task scheduling, breadth-first search in graphs, et\n"
      ],
      "metadata": {
        "id": "N0O4-1lJ6AEO"
      }
    },
    {
      "cell_type": "markdown",
      "source": [
        "####**Queue using List:**"
      ],
      "metadata": {
        "id": "Gc32bBT56RUA"
      }
    },
    {
      "cell_type": "code",
      "source": [
        "queue = []\n",
        "print(queue)\n",
        "queue.append(1)  # Enqueue\n",
        "queue.append(2)\n",
        "print(queue)\n",
        "front_element = queue.pop(0)  # Dequeue (inefficient)\n",
        "print(queue)\n"
      ],
      "metadata": {
        "colab": {
          "base_uri": "https://localhost:8080/"
        },
        "id": "nOaOHimP6CID",
        "outputId": "a62dac56-5705-44d2-94ed-960cd8f46f9f"
      },
      "execution_count": 6,
      "outputs": [
        {
          "output_type": "stream",
          "name": "stdout",
          "text": [
            "[]\n",
            "[1, 2]\n",
            "[2]\n"
          ]
        }
      ]
    },
    {
      "cell_type": "markdown",
      "source": [
        "#### **Queue using collections.deque:**"
      ],
      "metadata": {
        "id": "m9LtqKxK6LjE"
      }
    },
    {
      "cell_type": "code",
      "source": [
        "from collections import deque\n",
        "queue = deque()\n",
        "print(queue)\n",
        "queue.append(1)  # Enqueue\n",
        "queue.append(2)\n",
        "print(queue)\n",
        "front_element = queue.popleft()  # Dequeue (efficient)\n",
        "print(queue)"
      ],
      "metadata": {
        "colab": {
          "base_uri": "https://localhost:8080/"
        },
        "id": "IM4tLgfG6UM7",
        "outputId": "faa940b8-9d23-4be4-b03f-24e51257ce93"
      },
      "execution_count": 7,
      "outputs": [
        {
          "output_type": "stream",
          "name": "stdout",
          "text": [
            "deque([])\n",
            "deque([1, 2])\n",
            "deque([2])\n"
          ]
        }
      ]
    },
    {
      "cell_type": "markdown",
      "source": [
        "### Conclusion\n",
        "\n",
        "- **Stacks** are efficiently implemented using Python lists due to O(1) time complexity for both push and pop operations.\n",
        "- **Queues** are inefficient when implemented using lists because of the O(n) time complexity for dequeue operations. The `collections.deque` class provides an efficient alternative with O(1) time complexity for both enqueue and dequeue operations.\n",
        "- **Arrays** are useful for handling large volumes of homogeneous data with efficient O(1) access and modification, but insertion and deletion operations can be O(n). They are particularly beneficial in numerical and scientific computations where the `numpy` library is commonly used."
      ],
      "metadata": {
        "id": "sTpXw9Na6dnu"
      }
    },
    {
      "cell_type": "code",
      "source": [],
      "metadata": {
        "id": "Oh-Zmlk26eAq"
      },
      "execution_count": null,
      "outputs": []
    }
  ]
}